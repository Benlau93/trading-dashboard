{
 "cells": [
  {
   "cell_type": "markdown",
   "id": "24442a0e",
   "metadata": {},
   "source": [
    "pl = round(((history[\"Close\"].iloc[-1] * open_.loc[idx,\"Shares\"]) * (open_.loc[idx,\"Exchange Rate\"] * 0.99)) - open_.loc[idx,\"Amount (SGD)\"],2)\n"
   ]
  },
  {
   "cell_type": "code",
   "execution_count": 1,
   "id": "2eb7c649",
   "metadata": {},
   "outputs": [],
   "source": [
    "import pandas as pd\n",
    "import os\n",
    "import yfinance as yf"
   ]
  },
  {
   "cell_type": "code",
   "execution_count": 2,
   "id": "16488be4",
   "metadata": {},
   "outputs": [],
   "source": [
    "DIR = r\"C:\\Users\\Ben Lau\\Desktop\\trading-dashboard\""
   ]
  },
  {
   "cell_type": "code",
   "execution_count": 3,
   "id": "ec996b47",
   "metadata": {},
   "outputs": [],
   "source": [
    "df = pd.read_excel(os.path.join(DIR,\"Transaction Data.xlsx\"), sheet_name=\"Open Position\", parse_dates=[\"Date\"])\n",
    "df = df[[\"Date\",\"Symbol\",\"Shares\",\"Avg Price\",\"Exchange Rate\",\"Comm\",\"Amount (SGD)\"]].rename({\"Date\":\"BuyDate\"},axis=1)"
   ]
  },
  {
   "cell_type": "code",
   "execution_count": 4,
   "id": "4c77c4f3",
   "metadata": {},
   "outputs": [
    {
     "data": {
      "text/plain": [
       "'SOL1-USD ETH-USD SAND-USD CRO-USD'"
      ]
     },
     "execution_count": 4,
     "metadata": {},
     "output_type": "execute_result"
    }
   ],
   "source": [
    "# download historical data\n",
    "min_date = df[\"BuyDate\"].min()\n",
    "tickers = df[\"Symbol\"].unique()\n",
    "tickers = \" \".join(tickers)\n",
    "tickers"
   ]
  },
  {
   "cell_type": "code",
   "execution_count": 5,
   "id": "0e7f0f2e",
   "metadata": {},
   "outputs": [
    {
     "name": "stdout",
     "output_type": "stream",
     "text": [
      "[*********************100%***********************]  4 of 4 completed\n"
     ]
    }
   ],
   "source": [
    "data = yf.download(tickers, start = min_date, interval=\"1d\", group_by=\"ticker\").reset_index()"
   ]
  },
  {
   "cell_type": "code",
   "execution_count": 6,
   "id": "bac7fe57",
   "metadata": {},
   "outputs": [],
   "source": [
    "data = data.melt(id_vars=\"Date\", var_name=[\"Symbol\",\"OHLC\"], value_name=\"PRICE\")\n",
    "data = data[data[\"OHLC\"]==\"Close\"].drop([\"OHLC\"],axis=1)"
   ]
  },
  {
   "cell_type": "code",
   "execution_count": 7,
   "id": "97199b7b",
   "metadata": {},
   "outputs": [
    {
     "data": {
      "text/html": [
       "<div>\n",
       "<style scoped>\n",
       "    .dataframe tbody tr th:only-of-type {\n",
       "        vertical-align: middle;\n",
       "    }\n",
       "\n",
       "    .dataframe tbody tr th {\n",
       "        vertical-align: top;\n",
       "    }\n",
       "\n",
       "    .dataframe thead th {\n",
       "        text-align: right;\n",
       "    }\n",
       "</style>\n",
       "<table border=\"1\" class=\"dataframe\">\n",
       "  <thead>\n",
       "    <tr style=\"text-align: right;\">\n",
       "      <th></th>\n",
       "      <th>Date</th>\n",
       "      <th>Symbol</th>\n",
       "      <th>PRICE</th>\n",
       "    </tr>\n",
       "  </thead>\n",
       "  <tbody>\n",
       "    <tr>\n",
       "      <th>69</th>\n",
       "      <td>2021-11-25</td>\n",
       "      <td>ETH-USD</td>\n",
       "      <td>4274.743164</td>\n",
       "    </tr>\n",
       "    <tr>\n",
       "      <th>70</th>\n",
       "      <td>2021-11-26</td>\n",
       "      <td>ETH-USD</td>\n",
       "      <td>4030.908936</td>\n",
       "    </tr>\n",
       "    <tr>\n",
       "      <th>71</th>\n",
       "      <td>2021-11-27</td>\n",
       "      <td>ETH-USD</td>\n",
       "      <td>4096.912109</td>\n",
       "    </tr>\n",
       "    <tr>\n",
       "      <th>72</th>\n",
       "      <td>2021-11-28</td>\n",
       "      <td>ETH-USD</td>\n",
       "      <td>4294.453613</td>\n",
       "    </tr>\n",
       "    <tr>\n",
       "      <th>73</th>\n",
       "      <td>2021-11-29</td>\n",
       "      <td>ETH-USD</td>\n",
       "      <td>4445.104980</td>\n",
       "    </tr>\n",
       "    <tr>\n",
       "      <th>...</th>\n",
       "      <td>...</td>\n",
       "      <td>...</td>\n",
       "      <td>...</td>\n",
       "    </tr>\n",
       "    <tr>\n",
       "      <th>501</th>\n",
       "      <td>2021-12-13</td>\n",
       "      <td>SAND-USD</td>\n",
       "      <td>4.796265</td>\n",
       "    </tr>\n",
       "    <tr>\n",
       "      <th>502</th>\n",
       "      <td>2021-12-14</td>\n",
       "      <td>SAND-USD</td>\n",
       "      <td>4.778493</td>\n",
       "    </tr>\n",
       "    <tr>\n",
       "      <th>503</th>\n",
       "      <td>2021-12-15</td>\n",
       "      <td>SAND-USD</td>\n",
       "      <td>5.146542</td>\n",
       "    </tr>\n",
       "    <tr>\n",
       "      <th>504</th>\n",
       "      <td>2021-12-16</td>\n",
       "      <td>SAND-USD</td>\n",
       "      <td>4.951120</td>\n",
       "    </tr>\n",
       "    <tr>\n",
       "      <th>505</th>\n",
       "      <td>2021-12-17</td>\n",
       "      <td>SAND-USD</td>\n",
       "      <td>4.738232</td>\n",
       "    </tr>\n",
       "  </tbody>\n",
       "</table>\n",
       "<p>92 rows × 3 columns</p>\n",
       "</div>"
      ],
      "text/plain": [
       "          Date    Symbol        PRICE\n",
       "69  2021-11-25   ETH-USD  4274.743164\n",
       "70  2021-11-26   ETH-USD  4030.908936\n",
       "71  2021-11-27   ETH-USD  4096.912109\n",
       "72  2021-11-28   ETH-USD  4294.453613\n",
       "73  2021-11-29   ETH-USD  4445.104980\n",
       "..         ...       ...          ...\n",
       "501 2021-12-13  SAND-USD     4.796265\n",
       "502 2021-12-14  SAND-USD     4.778493\n",
       "503 2021-12-15  SAND-USD     5.146542\n",
       "504 2021-12-16  SAND-USD     4.951120\n",
       "505 2021-12-17  SAND-USD     4.738232\n",
       "\n",
       "[92 rows x 3 columns]"
      ]
     },
     "execution_count": 7,
     "metadata": {},
     "output_type": "execute_result"
    }
   ],
   "source": [
    "data"
   ]
  },
  {
   "cell_type": "code",
   "execution_count": 29,
   "id": "0f5db6a0",
   "metadata": {},
   "outputs": [],
   "source": [
    "# get daily pl\n",
    "combined = pd.merge(df,data,on=\"Symbol\")\n",
    "combined = combined[combined[\"Date\"]>=combined[\"BuyDate\"]].copy()"
   ]
  },
  {
   "cell_type": "code",
   "execution_count": 30,
   "id": "bd6a4b74",
   "metadata": {},
   "outputs": [],
   "source": [
    "combined[\"P/L (SGD)\"] = ((combined[\"PRICE\"] * combined[\"Shares\"]) * (combined[\"Exchange Rate\"] * 0.99)) - combined[\"Amount (SGD)\"]\n",
    "combined = combined[[\"Date\",\"Symbol\",\"Amount (SGD)\",\"P/L (SGD)\"]].copy()"
   ]
  },
  {
   "cell_type": "code",
   "execution_count": 32,
   "id": "577b692d",
   "metadata": {},
   "outputs": [],
   "source": [
    "test = combined.groupby(\"Date\").sum().reset_index()"
   ]
  },
  {
   "cell_type": "code",
   "execution_count": 36,
   "id": "d692c867",
   "metadata": {},
   "outputs": [],
   "source": [
    "combined.to_csv(\"Historical PL.csv\", index=False)"
   ]
  },
  {
   "cell_type": "code",
   "execution_count": 17,
   "id": "6f88d345",
   "metadata": {},
   "outputs": [
    {
     "data": {
      "text/plain": [
       "272.46968821671106"
      ]
     },
     "execution_count": 17,
     "metadata": {},
     "output_type": "execute_result"
    }
   ],
   "source": [
    "((191.511749 - 161.55873) * 6.7069 ) * 1.37 * 0.99"
   ]
  },
  {
   "cell_type": "code",
   "execution_count": 19,
   "id": "cf841483",
   "metadata": {},
   "outputs": [
    {
     "data": {
      "text/plain": [
       "257.62494458795413"
      ]
     },
     "execution_count": 19,
     "metadata": {},
     "output_type": "execute_result"
    }
   ],
   "source": [
    "(191.511749*6.7069 * (1.37 * 0.99)) - 1484.474793"
   ]
  },
  {
   "cell_type": "code",
   "execution_count": null,
   "id": "0ce9c360",
   "metadata": {},
   "outputs": [],
   "source": []
  }
 ],
 "metadata": {
  "kernelspec": {
   "display_name": "Python 3 (ipykernel)",
   "language": "python",
   "name": "python3"
  },
  "language_info": {
   "codemirror_mode": {
    "name": "ipython",
    "version": 3
   },
   "file_extension": ".py",
   "mimetype": "text/x-python",
   "name": "python",
   "nbconvert_exporter": "python",
   "pygments_lexer": "ipython3",
   "version": "3.8.5"
  }
 },
 "nbformat": 4,
 "nbformat_minor": 5
}
