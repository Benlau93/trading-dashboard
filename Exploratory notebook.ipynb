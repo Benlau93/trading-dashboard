{
 "cells": [
  {
   "cell_type": "code",
   "execution_count": 1,
   "id": "9a794c4f",
   "metadata": {},
   "outputs": [],
   "source": [
    "import pandas as pd\n",
    "import numpy as np\n",
    "import plotly.express as px"
   ]
  },
  {
   "cell_type": "code",
   "execution_count": 2,
   "id": "f8fcc1ca",
   "metadata": {},
   "outputs": [],
   "source": [
    "df = pd.read_excel(\"Transaction Data.xlsx\", sheet_name=None)\n",
    "data = df[\"Data\"]\n",
    "\n",
    "closed_position = df[\"Closed Position\"]\n",
    "open_position = df[\"Open Position\"]"
   ]
  },
  {
   "cell_type": "code",
   "execution_count": null,
   "id": "843984d9",
   "metadata": {},
   "outputs": [],
   "source": [
    "# filter\n",
    "date_options = [{\"label\":d, \"value\":d} for d in closed_position.sort_values(\"Date_Close\", ascending=False)[\"Date\"].unique()]\n",
    "date_options.insert(0,{\"label\":\"All\",\"value\":\"All\"})\n",
    "date_options"
   ]
  },
  {
   "cell_type": "code",
   "execution_count": null,
   "id": "12437510",
   "metadata": {},
   "outputs": [],
   "source": [
    "type_options =  [{\"label\":d, \"value\":d} for d in closed_position[\"Type\"].unique()]\n",
    "type_options"
   ]
  },
  {
   "cell_type": "code",
   "execution_count": null,
   "id": "9d9d5464",
   "metadata": {},
   "outputs": [],
   "source": [
    "# main kpi\n",
    "total_pl = closed_position[\"P/L (SGD)\"].sum()\n",
    "total_pl"
   ]
  },
  {
   "cell_type": "code",
   "execution_count": null,
   "id": "b8d2d070",
   "metadata": {},
   "outputs": [],
   "source": [
    "# line\n",
    "closed_position[\"Date\"] = closed_position[\"Date_Close\"].dt.strftime(\"%b-%y\")\n",
    "\n",
    "cul_pl = closed_position.groupby(\"Date\").sum()[[\"P/L (SGD)\"]].rename({\"P/L (SGD)\":\"P/L\"}, axis=1).reset_index()\n",
    "cul_pl[\"DATE(SORT)\"] = pd.to_datetime(cul_pl[\"Date\"], format=\"%b-%y\")\n",
    "cul_pl = cul_pl.sort_values([\"DATE(SORT)\"]).drop(\"DATE(SORT)\", axis=1)\n",
    "cul_pl[\"Cumulative P/L\"] = cul_pl[\"P/L\"].cumsum()\n",
    "cul_pl[\"Cumulative P/L\"] = cul_pl[\"Cumulative P/L\"].map(lambda x: round(x, 2))\n",
    "cul_pl"
   ]
  },
  {
   "cell_type": "code",
   "execution_count": null,
   "id": "8a4c92fe",
   "metadata": {},
   "outputs": [],
   "source": [
    "# bar\n",
    "pl_by_type = closed_position.groupby(\"Type\")[[\"P/L (SGD)\"]].sum().reset_index()\n",
    "\n",
    "pl_by_type[\"P/L\"] = pl_by_type[\"P/L (SGD)\"].map(lambda x: round(x,2))\n",
    "pl_by_type[\"TEXT\"] = pl_by_type[\"P/L\"].map(lambda x:  \"-$\" + str(abs(x)) if x<0 else \"$\" + str((x)))\n",
    "pl_by_type = pl_by_type.sort_values([\"P/L\"])\n",
    "pl_by_type"
   ]
  },
  {
   "cell_type": "code",
   "execution_count": null,
   "id": "eb7c2c69",
   "metadata": {},
   "outputs": [],
   "source": [
    "# stacked bar\n",
    "data[\"DATE\"] = data[\"Date\"].dt.strftime(\"%b-%y\")\n",
    "\n",
    "trade = data.groupby([\"DATE\",\"Action\"])[[\"Symbol\"]].count().rename({\"Symbol\":\"No. Trades\"}, axis=1).reset_index()\n",
    "trade[\"DATE(SORT)\"] = pd.to_datetime(trade[\"DATE\"], format=\"%b-%y\")\n",
    "trade = trade.sort_values([\"DATE(SORT)\"]).drop(\"DATE(SORT)\", axis=1)\n",
    "trade"
   ]
  },
  {
   "cell_type": "code",
   "execution_count": null,
   "id": "89c28415",
   "metadata": {},
   "outputs": [],
   "source": [
    "# P/L by name\n",
    "pl_by_name = closed_position.groupby([\"Type\",\"Name\"])[[\"P/L (SGD)\",\"P/L (%)\"]].sum().rename({\"P/L (SGD)\":\"P/L\"}, axis=1).reset_index()\n",
    "pl_by_name"
   ]
  },
  {
   "cell_type": "markdown",
   "id": "f416c4e8",
   "metadata": {},
   "source": [
    "### Provide Fixtures for Django Model"
   ]
  },
  {
   "cell_type": "code",
   "execution_count": 3,
   "id": "53190f4a",
   "metadata": {},
   "outputs": [],
   "source": [
    "import json\n",
    "from datetime import date"
   ]
  },
  {
   "cell_type": "code",
   "execution_count": null,
   "id": "bb0fe989",
   "metadata": {},
   "outputs": [],
   "source": [
    "# tickerinfo\n",
    "tickerinfo = data[[\"Symbol\",\"Name\",\"Type\",\"Currency\",\"Sector\",\"Industry\"]].drop_duplicates().rename({\"Symbol\":\"pk\"},axis=1).copy()\n",
    "tickerinfo[\"model\"] = \"api.tickerinfo\"\n",
    "tickerinfo.columns = tickerinfo.columns.str.lower()"
   ]
  },
  {
   "cell_type": "code",
   "execution_count": null,
   "id": "7412f87a",
   "metadata": {},
   "outputs": [],
   "source": [
    "fixture = []\n",
    "\n",
    "for row in tickerinfo.iterrows():\n",
    "    _ = {\"model\":row[1][\"model\"],\n",
    "    \"pk\":row[1][\"pk\"],\n",
    "    \"fields\":\n",
    "        row[1][[\"name\",\"type\",\"currency\",\"sector\",\"industry\"]].to_dict()\n",
    "    }\n",
    "    \n",
    "    fixture.append(_)\n",
    "    \n",
    "with open(\"tickerinfo.json\",\"w\") as f:\n",
    "    json.dump(fixture, f)"
   ]
  },
  {
   "cell_type": "code",
   "execution_count": 4,
   "id": "0bdf6bc5",
   "metadata": {},
   "outputs": [],
   "source": [
    "# transactionmodel\n",
    "transactionmodel = data[[\"Date\",\"Symbol\",\"Action\",\"Price\",\"Shares\",\"Comm\",\"Exchange Rate\",\"Amount\",\"Amount (SGD)\"]].rename({\"Shares\":\"Quantity\",\n",
    "                                                                                                                           \"Comm\":\"Fees\",\n",
    "                                                                                                                           \"Amount\":\"Value\",\n",
    "                                                                                                                           \"Amount (SGD)\":\"Value_sgd\",\n",
    "                                                                                                                           \"Exchange Rate\":\"exchange_rate\"}, axis=1).copy()\n",
    "transactionmodel.columns = transactionmodel.columns.str.lower()\n",
    "transactionmodel[\"date\"] = pd.to_datetime(transactionmodel[\"date\"], format=\"%Y-%m-%d\")\n",
    "transactionmodel[\"date\"] = transactionmodel[\"date\"].map(lambda x: date(x.year, x.month,x.day).__str__())\n",
    "transactionmodel[\"model\"] = \"api.transactionmodel\"\n",
    "transactionmodel[\"pk\"] = transactionmodel[\"symbol\"] + \"|\" + transactionmodel[\"date\"].astype(str) + \"|\" + transactionmodel[\"action\"]"
   ]
  },
  {
   "cell_type": "code",
   "execution_count": 5,
   "id": "2b94a3eb",
   "metadata": {},
   "outputs": [],
   "source": [
    "fixture = []\n",
    "\n",
    "for row in transactionmodel.iterrows():\n",
    "    _ = {\"model\":row[1][\"model\"],\n",
    "    \"pk\":row[1][\"pk\"],\n",
    "    \"fields\":\n",
    "        row[1][[col for col in transactionmodel.columns if col not in [\"model\",\"pk\"]]].to_dict()\n",
    "    }\n",
    "    \n",
    "    fixture.append(_)\n",
    "    \n",
    "with open(\"transactionmodel.json\",\"w\") as f:\n",
    "    json.dump(fixture, f)"
   ]
  },
  {
   "cell_type": "code",
   "execution_count": 21,
   "id": "f6f5e84b",
   "metadata": {},
   "outputs": [],
   "source": [
    "# closed position\n",
    "closedposition = closed_position[[\"Symbol\",\"Date_Open\",\"Date_Close\",\"Holding (days)\",\"P/L (Origin Currency)\",\"P/L (SGD)\",\"P/L (%)\"]].rename({\"Holding (days)\":\"Holding\",\n",
    "                                                                                                                      \"P/L (Origin Currency)\":\"pl\",\n",
    "                                                                                                                      \"P/L (SGD)\":\"pl_sgd\",\n",
    "                                                                                                                      \"P/L (%)\":\"pl_per\"}, axis=1).copy()\n",
    "closedposition.columns = closedposition.columns.str.lower()\n",
    "for dat in [\"date_open\",\"date_close\"]:\n",
    "    closedposition[dat] = pd.to_datetime(closedposition[dat], format=\"%Y-%m-%d\")\n",
    "    closedposition[dat] = closedposition[dat].map(lambda x: date(x.year, x.month,x.day).__str__())\n",
    "closedposition[\"model\"] = \"api.closedposition\"\n",
    "closedposition[\"pk\"] = closedposition[\"symbol\"] + \"|\" + closedposition[\"date_open\"].astype(str) + \"|\" + closedposition[\"date_close\"].astype(str)"
   ]
  },
  {
   "cell_type": "code",
   "execution_count": 22,
   "id": "c14b8724",
   "metadata": {},
   "outputs": [],
   "source": [
    "fixture = []\n",
    "\n",
    "for row in closedposition.iterrows():\n",
    "    _ = {\"model\":row[1][\"model\"],\n",
    "    \"pk\":row[1][\"pk\"],\n",
    "    \"fields\":\n",
    "        row[1][[col for col in closedposition.columns if col not in [\"model\",\"pk\"]]].to_dict()\n",
    "    }\n",
    "    \n",
    "    fixture.append(_)\n",
    "    \n",
    "with open(\"closedposition.json\",\"w\") as f:\n",
    "    json.dump(fixture, f)"
   ]
  },
  {
   "cell_type": "code",
   "execution_count": 30,
   "id": "18de2eb3",
   "metadata": {},
   "outputs": [],
   "source": [
    "# openposition\n",
    "openposition = open_position[[\"Date\",\"Symbol\",\"Avg Price\",\"Shares\",\"Comm\",\"Exchange Rate\",\"Amount\",\"Amount (SGD)\",\"Holdings (days)\",\"Weightage\",\"P/L (Origin Currency)\",\"P/L (SGD)\",\"P/L (%)\",\"Value (SGD)\"]].rename({\"Date\":\"Date_open\",\"Avg Price\":\"avg_price\",\"Shares\":\"total_quantity\",\"Comm\":\"total_fees\",\"Exchange Rate\":\"avg_exchange_rate\",\"Amount\":\"total_value\",\"Amount (SGD)\":\"total_value_sgd\",\"Holdings (days)\":\"total_holding\",\"P/L (Origin Currency)\":\"unrealised_pl\",\"P/L (SGD)\":\"unrealised_pl_sgd\",\"P/L (%)\":\"unrealised_pl_per\",\"Value (SGD)\":\"current_value_sgd\"}, axis=1)\n",
    "openposition.columns = openposition.columns.str.lower()\n",
    "openposition[\"model\"] = \"api.openposition\"\n",
    "openposition[\"date_open\"] = pd.to_datetime(openposition[\"date_open\"], format=\"%Y-%m-%d\")\n",
    "openposition[\"date_open\"] = openposition[\"date_open\"].map(lambda x: date(x.year, x.month,x.day).__str__())\n",
    "openposition[\"pk\"] = openposition[\"symbol\"] + \"|\" + openposition[\"date_open\"]"
   ]
  },
  {
   "cell_type": "code",
   "execution_count": 32,
   "id": "c78f49da",
   "metadata": {},
   "outputs": [],
   "source": [
    "fixture = []\n",
    "\n",
    "for row in openposition.iterrows():\n",
    "    _ = {\"model\":row[1][\"model\"],\n",
    "    \"pk\":row[1][\"pk\"],\n",
    "    \"fields\":\n",
    "        row[1][[col for col in openposition.columns if col not in [\"model\",\"pk\"]]].to_dict()\n",
    "    }\n",
    "    \n",
    "    fixture.append(_)\n",
    "    \n",
    "with open(\"openposition.json\",\"w\") as f:\n",
    "    json.dump(fixture, f)"
   ]
  },
  {
   "cell_type": "markdown",
   "id": "0de5c6a5",
   "metadata": {},
   "source": [
    "### Test request"
   ]
  },
  {
   "cell_type": "code",
   "execution_count": 5,
   "id": "b43dc99e",
   "metadata": {},
   "outputs": [],
   "source": [
    "import requests\n",
    "\n",
    "data = {\"date\":\"2021-08-10\",\n",
    "       \"symbol\":\"TSLA\",\n",
    "       \"action\":\"Buy\",\n",
    "       \"price\":1000,\n",
    "       \"quantity\":1,\n",
    "       \"fees\":1,\n",
    "       \"exchange_rate\":1.3}\n",
    "\n",
    "response = requests.post(\"http://127.0.0.1:8000/api/transaction\", data=data)"
   ]
  },
  {
   "cell_type": "code",
   "execution_count": 8,
   "id": "38898fc9",
   "metadata": {},
   "outputs": [
    {
     "data": {
      "text/plain": [
       "True"
      ]
     },
     "execution_count": 8,
     "metadata": {},
     "output_type": "execute_result"
    }
   ],
   "source": [
    "response.status_code == 200"
   ]
  },
  {
   "cell_type": "code",
   "execution_count": null,
   "id": "aadaca65",
   "metadata": {},
   "outputs": [],
   "source": []
  }
 ],
 "metadata": {
  "kernelspec": {
   "display_name": "Python 3 (ipykernel)",
   "language": "python",
   "name": "python3"
  },
  "language_info": {
   "codemirror_mode": {
    "name": "ipython",
    "version": 3
   },
   "file_extension": ".py",
   "mimetype": "text/x-python",
   "name": "python",
   "nbconvert_exporter": "python",
   "pygments_lexer": "ipython3",
   "version": "3.9.7"
  }
 },
 "nbformat": 4,
 "nbformat_minor": 5
}
